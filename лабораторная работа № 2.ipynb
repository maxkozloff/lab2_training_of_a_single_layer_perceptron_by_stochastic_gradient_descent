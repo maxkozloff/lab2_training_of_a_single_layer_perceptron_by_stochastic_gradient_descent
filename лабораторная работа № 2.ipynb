{
 "cells": [
  {
   "cell_type": "markdown",
   "id": "b2e88284",
   "metadata": {},
   "source": [
    "### лабораторная работа №2 "
   ]
  },
  {
   "cell_type": "markdown",
   "id": "c71014f7",
   "metadata": {},
   "source": [
    "##### \"Обучение однослойного персептрона методом стохастического градиентного спуска\""
   ]
  },
  {
   "cell_type": "code",
   "execution_count": 3,
   "id": "045c5539",
   "metadata": {},
   "outputs": [
    {
     "name": "stdout",
     "output_type": "stream",
     "text": [
      "Обучение однослойного персептрона методом стохастического градиентного спуска\n",
      "Размер обучающего сета: 24\n",
      "Размер проверочного сета: 6\n",
      "2022-06-10 12:50:22.422009 Запуск обучения...\n",
      "2022-06-10 12:50:22.422009 Эпоха номер: 1\n",
      "loss = 0.45407086826862647\n",
      "2022-06-10 12:50:22.712066 Эпоха номер: 2\n",
      "loss = 0.22898944091870024\n",
      "2022-06-10 12:50:23.001131 Эпоха номер: 3\n",
      "loss = 0.13478316872486085\n",
      "2022-06-10 12:50:23.290196 Эпоха номер: 4\n",
      "loss = 0.0807937790685545\n",
      "2022-06-10 12:50:23.580262 Эпоха номер: 5\n",
      "loss = 0.05752626196269812\n",
      "2022-06-10 12:50:23.871328 Эпоха номер: 6\n",
      "loss = 0.04580378753871453\n",
      "2022-06-10 12:50:24.159393 Эпоха номер: 7\n",
      "loss = 0.036136338500917985\n",
      "2022-06-10 12:50:24.450461 Эпоха номер: 8\n",
      "loss = 0.030081018351768494\n",
      "2022-06-10 12:50:24.748525 Эпоха номер: 9\n",
      "loss = 0.025204639744793395\n",
      "2022-06-10 12:50:25.044571 Эпоха номер: 10\n",
      "loss = 0.02210722291597852\n",
      "0 распознан как 0\n",
      "1 распознан как 1\n",
      "2 распознан как 2\n",
      "3 распознан как 3\n",
      "4 распознан как 4\n",
      "5 распознан как 5\n",
      "Точность: 100.0000%\n",
      "Распознавание пользовательского изображения\n",
      "Пользовательское изображение распознано как 4\n"
     ]
    }
   ],
   "source": [
    "from pure_python.one_layer_net import OneLayerNet\n",
    "from datareader import DataReader\n",
    "from pure_python._vector import Vector\n",
    "from datetime import datetime\n",
    "import numpy as np\n",
    "import cv2\n",
    "\n",
    "print(\"Обучение однослойного персептрона методом стохастического градиентного спуска\")\n",
    "def get_max_neuron_idx(neurons):\n",
    "    max_idx = -1\n",
    "    answer = -1\n",
    "    for j in range(len(neurons)):\n",
    "        if neurons[j] > answer:\n",
    "            answer = neurons[j]\n",
    "            max_idx = j\n",
    "    return max_idx\n",
    "\n",
    "\n",
    "# Learning params\n",
    "learning_rate = 1e-6\n",
    "num_epochs = 10\n",
    "\n",
    "# Network params\n",
    "input_channels = 1\n",
    "input_height = 28\n",
    "input_width = 28\n",
    "num_classes = 6\n",
    "\n",
    "one_layer_net = OneLayerNet(input_height * input_width, num_classes)\n",
    "\n",
    "train_dir = \"data/train\"\n",
    "test_dir = \"data/test\"\n",
    "\n",
    "train_generator = DataReader(train_dir, [input_height, input_width], True, input_channels, num_classes).get_generator()\n",
    "test_generator = DataReader(test_dir, [input_height, input_width], False, input_channels, num_classes).get_generator()\n",
    "\n",
    "print('Размер обучающего сета: {}'.format(train_generator.get_data_size()))\n",
    "print('Размер проверочного сета: {}'.format(test_generator.get_data_size()))\n",
    "\n",
    "print(\"{} Запуск обучения...\".format(datetime.now()))\n",
    "for epoch in range(num_epochs):\n",
    "    print(\"{} Эпоха номер: {}\".format(datetime.now(), epoch + 1))\n",
    "    loss = 0\n",
    "    for m in range(train_generator.get_data_size()):\n",
    "        x, d = train_generator.next()\n",
    "        loss += one_layer_net.train(Vector(x, d), learning_rate)\n",
    "    print(\"loss = {}\".format(loss / train_generator.get_data_size()))\n",
    "    train_generator.reset_pointer()\n",
    "    train_generator.shuffle_data()\n",
    "\n",
    "passed = 0\n",
    "for i in range(test_generator.get_data_size()):\n",
    "    x, d = test_generator.next()\n",
    "    y = one_layer_net.test(Vector(x, d))\n",
    "\n",
    "    d_max_idx = get_max_neuron_idx(d)\n",
    "    y_max_idx = get_max_neuron_idx(y)\n",
    "    if y_max_idx == d_max_idx:\n",
    "        passed += 1\n",
    "    print(\"{} распознан как {}\".format(d_max_idx, y_max_idx))\n",
    "\n",
    "accuracy = passed / test_generator.get_data_size() * 100.0\n",
    "print(\"Точность: {:.4f}%\".format(accuracy))\n",
    "\n",
    "print(\"Распознавание пользовательского изображения\")\n",
    "img = cv2.imread(\"custom.bmp\", cv2.IMREAD_GRAYSCALE)\n",
    "img = img.reshape((img.shape[0], img.shape[1], 1)).astype(np.float32)\n",
    "y = one_layer_net.test(Vector(img, None))\n",
    "print(\"Пользовательское изображение распознано как {}\".format(get_max_neuron_idx(y)))"
   ]
  },
  {
   "cell_type": "code",
   "execution_count": null,
   "id": "7c81ec0d",
   "metadata": {},
   "outputs": [],
   "source": []
  }
 ],
 "metadata": {
  "kernelspec": {
   "display_name": "Python 3 (ipykernel)",
   "language": "python",
   "name": "python3"
  },
  "language_info": {
   "codemirror_mode": {
    "name": "ipython",
    "version": 3
   },
   "file_extension": ".py",
   "mimetype": "text/x-python",
   "name": "python",
   "nbconvert_exporter": "python",
   "pygments_lexer": "ipython3",
   "version": "3.9.12"
  }
 },
 "nbformat": 4,
 "nbformat_minor": 5
}
